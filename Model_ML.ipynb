{
  "nbformat": 4,
  "nbformat_minor": 0,
  "metadata": {
    "colab": {
      "name": "Model_ML.ipynb",
      "provenance": [],
      "collapsed_sections": [],
      "authorship_tag": "ABX9TyPoyqASSxF304zPTa/w1Mc9",
      "include_colab_link": true
    },
    "kernelspec": {
      "name": "python3",
      "display_name": "Python 3"
    }
  },
  "cells": [
    {
      "cell_type": "markdown",
      "metadata": {
        "id": "view-in-github",
        "colab_type": "text"
      },
      "source": [
        "<a href=\"https://colab.research.google.com/github/sindhu000018/2016-10-facebook-fact-check/blob/master/Model_ML.ipynb\" target=\"_parent\"><img src=\"https://colab.research.google.com/assets/colab-badge.svg\" alt=\"Open In Colab\"/></a>"
      ]
    },
    {
      "cell_type": "code",
      "metadata": {
        "id": "A2TgETMQ8GhL",
        "colab_type": "code",
        "outputId": "22bd8c1f-647f-457b-ef7e-ac94d18a05fc",
        "colab": {
          "base_uri": "https://localhost:8080/",
          "height": 70
        }
      },
      "source": [
        "import csv\n",
        "import pandas as pd\n",
        "import numpy as np\n",
        "from google.colab import files\n",
        "from sklearn.model_selection import train_test_split\n",
        "from sklearn.ensemble import RandomForestClassifier\n",
        "from sklearn.svm import SVC\n",
        "from sklearn import metrics\n",
        "from sklearn.linear_model import LogisticRegression\n",
        "import matplotlib.pyplot as plt\n",
        "import seaborn as sns\n",
        "from sklearn.neural_network import MLPClassifier\n",
        "from sklearn.linear_model import Perceptron\n",
        "from sklearn.neighbors import KNeighborsClassifier\n",
        "from sklearn.metrics import matthews_corrcoef\n",
        "\n",
        "# import bob as bob"
      ],
      "execution_count": 0,
      "outputs": [
        {
          "output_type": "stream",
          "text": [
            "/usr/local/lib/python3.6/dist-packages/statsmodels/tools/_testing.py:19: FutureWarning: pandas.util.testing is deprecated. Use the functions in the public API at pandas.testing instead.\n",
            "  import pandas.util.testing as tm\n"
          ],
          "name": "stderr"
        }
      ]
    },
    {
      "cell_type": "code",
      "metadata": {
        "id": "XC02bSCvQ2oc",
        "colab_type": "code",
        "outputId": "e812d8bf-f6a0-43cf-c480-613e66201829",
        "colab": {
          "base_uri": "https://localhost:8080/",
          "height": 50
        }
      },
      "source": [
        "!pip install bob"
      ],
      "execution_count": 0,
      "outputs": [
        {
          "output_type": "stream",
          "text": [
            "Requirement already satisfied: bob in /usr/local/lib/python3.6/dist-packages (7.0.0)\n",
            "Requirement already satisfied: setuptools in /usr/local/lib/python3.6/dist-packages (from bob) (46.0.0)\n"
          ],
          "name": "stdout"
        }
      ]
    },
    {
      "cell_type": "code",
      "metadata": {
        "id": "d6jQnuByiIsx",
        "colab_type": "code",
        "outputId": "94680ba1-8b2c-4216-f8c5-17113c31a73c",
        "colab": {
          "base_uri": "https://localhost:8080/",
          "height": 34
        }
      },
      "source": [
        "csv_len=len(list(csv.reader(open('feature_Selected_n318.csv'))))\n",
        "print(csv_len)"
      ],
      "execution_count": 0,
      "outputs": [
        {
          "output_type": "stream",
          "text": [
            "32832\n"
          ],
          "name": "stdout"
        }
      ]
    },
    {
      "cell_type": "code",
      "metadata": {
        "id": "DleuDC9ciSIX",
        "colab_type": "code",
        "outputId": "c6780576-53f4-4f7e-e13a-0611671e6355",
        "colab": {
          "base_uri": "https://localhost:8080/",
          "height": 70
        }
      },
      "source": [
        "df =pd.read_csv('feature_Selected_n318.csv',names=[\"1\", \"2\", \"3\", \"4\",\"5\", \"6\", \"7\", \"8\",\"9\", \"10\", \"11\", \"12\", \"13\",\n",
        "                                      \"14\", \"15\", \"16\", \"17\",\"18\", \"19\", \"20\", \"21\",\"22\", \"23\", \"24\", \"25\", \"26\",\n",
        "                                       \"27\", \"28\", \"29\", \"30\",\"31\", \"32\", \"33\", \"34\",\"35\", \"36\", \"37\", \"38\", \"39\",\n",
        "                                       \"40\", \"41\", \"42\", \"43\",\"44\", \"45\", \"46\", \"47\",\"48\", \"49\", \"50\", \"51\", \"52\",\n",
        "                                       \"53\",\"54\",\"55\",\"56\",\"57\",\"58\",\"59\",\"60\",\"61\",\"62\",\"63\",\"64\",\"65\",\"66\",\"67\",\n",
        "                                       \"68\",\"69\",\"70\",\"71\",\"72\",\"73\",\"74\",\"75\",\"76\",\"77\",\"78\",\"79\",\"80\",\"81\",\"82\",\n",
        "                                       \"83\",\"84\",\"85\",\"86\",\"87\",\"88\",\"89\",\"90\",\"91\",\"92\",\"93\",\"94\",\"95\",\"96\",\"97\",\n",
        "                                       \"98\",\"99\",\"100\",\"101\",\"102\",\"103\",\"104\",\"105\",\"106\",\"107\",\"108\",\"109\",\"110\",\n",
        "                                       \"111\",\"112\",\"113\",\"114\",\"115\",\"116\",\"117\",\"118\",\"119\",\"120\",\"121\",\"122\",\"123\",\n",
        "                                       \"124\",\"125\",\"126\",\"127\",\"128\",\"129\",\"130\",\"131\",\"132\",\"133\",\"134\",\"135\",\"136\",\n",
        "                                       \"137\",\"138\",\"139\",\"140\",\"141\",\"142\",\"143\",\"144\",\"145\",\"146\",\"147\",\"148\",\n",
        "                                       \"149\",\"150\",\"151\",\"152\",\"153\",\"154\",\"155\",\"156\",\n",
        "                                       \"Class\"])\n",
        "\n",
        "def clean_dataset(df):\n",
        "    assert isinstance(df, pd.DataFrame), \"df needs to be a pd.DataFrame\"\n",
        "    df.dropna(inplace=True)\n",
        "    indices_to_keep = ~df.isin([np.nan, np.inf, -np.inf]).any(1)\n",
        "    return df[indices_to_keep].astype(np.float32)\n",
        "df = clean_dataset(df)\n",
        "\n",
        "features = df[[\"1\", \"2\", \"3\", \"4\",\"5\", \"6\", \"7\", \"8\",\"9\", \"10\", \"11\", \"12\", \"13\",\n",
        "                                      \"14\", \"15\", \"16\", \"17\",\"18\", \"19\", \"20\", \"21\",\"22\", \"23\", \"24\", \"25\", \"26\",\n",
        "                                       \"27\", \"28\", \"29\", \"30\",\"31\", \"32\", \"33\", \"34\",\"35\", \"36\", \"37\", \"38\", \"39\",\n",
        "                                       \"40\", \"41\", \"42\", \"43\",\"44\", \"45\", \"46\", \"47\",\"48\", \"49\", \"50\", \"51\", \"52\",\n",
        "                                       \"53\",\"54\",\"55\",\"56\",\"57\",\"58\",\"59\",\"60\",\"61\",\"62\",\"63\",\"64\",\"65\",\"66\",\"67\",\n",
        "                                       \"68\",\"69\",\"70\",\"71\",\"72\",\"73\",\"74\",\"75\",\"76\",\"77\",\"78\",\"79\",\"80\",\"81\",\"82\",\n",
        "                                       \"83\",\"84\",\"85\",\"86\",\"87\",\"88\",\"89\",\"90\",\"91\",\"92\",\"93\",\"94\",\"95\",\"96\",\"97\",\n",
        "                                       \"98\",\"99\",\"100\",\"101\",\"102\",\"103\",\"104\",\"105\",\"106\",\"107\",\"108\",\"109\",\"110\",\n",
        "                                       \"111\",\"112\",\"113\",\"114\",\"115\",\"116\",\"117\",\"118\",\"119\",\"120\",\"121\",\"122\",\"123\",\n",
        "                                       \"124\",\"125\",\"126\",\"127\",\"128\",\"129\",\"130\",\"131\",\"132\",\"133\",\"134\",\"135\",\"136\",\n",
        "                                       \"137\",\"138\",\"139\",\"140\",\"141\",\"142\",\"143\",\"144\",\"145\",\"146\",\"147\",\"148\",\n",
        "                                       \"149\",\"150\",\"151\",\"152\",\"153\",\"154\",\"155\",\"156\"]]\n",
        "class_label = df[[\"Class\"]]"
      ],
      "execution_count": 0,
      "outputs": [
        {
          "output_type": "stream",
          "text": [
            "/usr/local/lib/python3.6/dist-packages/IPython/core/interactiveshell.py:2718: DtypeWarning: Columns (0) have mixed types.Specify dtype option on import or set low_memory=False.\n",
            "  interactivity=interactivity, compiler=compiler, result=result)\n"
          ],
          "name": "stderr"
        }
      ]
    },
    {
      "cell_type": "code",
      "metadata": {
        "id": "DbCWVh-kjM7I",
        "colab_type": "code",
        "colab": {}
      },
      "source": [
        "# #Retain selected features ---- F2\n",
        "# final_df = df.drop(columns=['2','3','5','6','15','16','17','18','22','23','24','27','29','31','32','35','37','40','43','44','45','51','52'])\n",
        "# final_df.head()\n",
        "# features = final_df[['1','4','7','8','9','10','11','12','13','14','19','20','21','25','26','28','30','33','34','36','38','39','41','42','46','47','48','49','50']]\n",
        "# class_label = final_df[['Class']]\n",
        "# #features.head()\n",
        "# class_label.head()"
      ],
      "execution_count": 0,
      "outputs": []
    },
    {
      "cell_type": "code",
      "metadata": {
        "id": "Z6ab5Xok9eMX",
        "colab_type": "code",
        "colab": {}
      },
      "source": [
        "# #Retain selected features --- F1\n",
        "# final_df = df.drop(columns=['2','3','5','6','10','11','15','16','17','18','22','23','24','27','29','31','32','33','35','37','40','42','43','44','45','51','52'])\n",
        "# final_df.head()\n",
        "# features = final_df[['1','4','7','8','9','12','13','14','19','20','21','25','26','28','30','34','36','38','39','41','46','47','48','49','50']]\n",
        "# class_label = final_df[['Class']]\n",
        "# #features.head()\n",
        "# #class_label.head()"
      ],
      "execution_count": 0,
      "outputs": []
    },
    {
      "cell_type": "code",
      "metadata": {
        "id": "sEJzFR8mmyym",
        "colab_type": "code",
        "colab": {}
      },
      "source": [
        "#Split dataset into training and test set\n",
        "X_train, X_test, y_train, y_test = train_test_split(features, class_label, test_size=0.3)"
      ],
      "execution_count": 0,
      "outputs": []
    },
    {
      "cell_type": "code",
      "metadata": {
        "id": "aXfBUoONnToU",
        "colab_type": "code",
        "outputId": "4cf44643-df78-4f38-89c2-5a1655a5e2f0",
        "colab": {
          "base_uri": "https://localhost:8080/",
          "height": 138
        }
      },
      "source": [
        "#Random Forests\n",
        "random_clf=RandomForestClassifier(n_estimators=100)\n",
        "random_clf.fit(X_train,y_train)\n",
        "randomforest_pred=random_clf.predict(X_test)\n",
        "print(\"Accuracy:\",metrics.accuracy_score(y_test, randomforest_pred))\n",
        "print(\"F1 score:\",metrics.f1_score(y_test, randomforest_pred))\n",
        "print(\"Precision:\",metrics.precision_score(y_test, randomforest_pred))\n",
        "print(\"Recall:\",metrics.recall_score(y_test, randomforest_pred))\n",
        "# rf_Score = metrics.accuracy_score(y_test, randomforest_pred)\n",
        "# supportVectorClassifier = SVC(kernel = 'linear', probability = True)\n",
        "# supportVectorClassifier.fit(X_train, y_train)\n",
        "# svc_pred=random_clf.predict(X_test)\n",
        "# print(\"Accuracy:\",metrics.accuracy_score(y_test, svc_pred))\n",
        "# probs = supportVectorClassifier.predict_proba(X_test)"
      ],
      "execution_count": 0,
      "outputs": [
        {
          "output_type": "stream",
          "text": [
            "/usr/local/lib/python3.6/dist-packages/ipykernel_launcher.py:2: DataConversionWarning: A column-vector y was passed when a 1d array was expected. Please change the shape of y to (n_samples,), for example using ravel().\n",
            "  \n"
          ],
          "name": "stderr"
        },
        {
          "output_type": "stream",
          "text": [
            "Accuracy: 0.9973601380850848\n",
            "F1 score: 0.997268333683547\n",
            "Precision: 0.9991578947368421\n",
            "Recall: 0.9953859060402684\n"
          ],
          "name": "stdout"
        }
      ]
    },
    {
      "cell_type": "code",
      "metadata": {
        "id": "9vUNe06SlJR3",
        "colab_type": "code",
        "colab": {}
      },
      "source": [
        "# #logistic Regression\n",
        "# logisticRegr = LogisticRegression()\n",
        "# logisticRegr.fit(X_train,y_train)\n",
        "# log_predictions = logisticRegr.predict(X_test)\n",
        "# print(\"Accuracy:\",metrics.accuracy_score(y_test, log_predictions))\n",
        "# print(\"F1 score:\",metrics.f1_score(y_test, log_predictions))\n",
        "# print(\"Precision:\",metrics.precision_score(y_test, randomforest_pred))\n",
        "# print(\"Recall:\",metrics.recall_score(y_test, randomforest_pred))\n",
        "# score = logisticRegr.score(X_test, y_test)\n",
        "# print(score)"
      ],
      "execution_count": 0,
      "outputs": []
    },
    {
      "cell_type": "code",
      "metadata": {
        "id": "ABxEsqaxoSrL",
        "colab_type": "code",
        "outputId": "a3bf1d3f-3051-4d35-8b46-ba46c21fb012",
        "colab": {
          "base_uri": "https://localhost:8080/",
          "height": 171
        }
      },
      "source": [
        "#Multi Layer Perceptron\n",
        "multiLayerPerceptron = MLPClassifier(solver='sgd')\n",
        "multiLayerPerceptron.fit(X_train,y_train)\n",
        "MLP_predictions = multiLayerPerceptron.predict(X_test)\n",
        "print(\"Accuracy:\",metrics.accuracy_score(y_test, MLP_predictions))\n",
        "print(\"F1 score:\",metrics.f1_score(y_test, MLP_predictions))\n",
        "print(\"Precision:\",metrics.precision_score(y_test, MLP_predictions))\n",
        "print(\"Recall:\",metrics.recall_score(y_test, MLP_predictions))"
      ],
      "execution_count": 0,
      "outputs": [
        {
          "output_type": "stream",
          "text": [
            "/usr/local/lib/python3.6/dist-packages/sklearn/neural_network/_multilayer_perceptron.py:934: DataConversionWarning: A column-vector y was passed when a 1d array was expected. Please change the shape of y to (n_samples, ), for example using ravel().\n",
            "  y = column_or_1d(y, warn=True)\n"
          ],
          "name": "stderr"
        },
        {
          "output_type": "stream",
          "text": [
            "Accuracy: 0.9715707178393745\n",
            "F1 score: 0.9706744868035192\n",
            "Precision: 0.9654166666666667\n",
            "Recall: 0.9759898904802022\n"
          ],
          "name": "stdout"
        },
        {
          "output_type": "stream",
          "text": [
            "/usr/local/lib/python3.6/dist-packages/sklearn/neural_network/_multilayer_perceptron.py:571: ConvergenceWarning: Stochastic Optimizer: Maximum iterations (200) reached and the optimization hasn't converged yet.\n",
            "  % self.max_iter, ConvergenceWarning)\n"
          ],
          "name": "stderr"
        }
      ]
    },
    {
      "cell_type": "code",
      "metadata": {
        "id": "6aY_fmv_sMfV",
        "colab_type": "code",
        "colab": {}
      },
      "source": [
        "# #Single Layer Perceptron\n",
        "# singleLayerPerceptron = Perceptron(tol=1e-3, random_state=0)\n",
        "# singleLayerPerceptron.fit(X_train,y_train)\n",
        "# SLP_predictions = singleLayerPerceptron.predict(X_test)\n",
        "# # print(\"Accuracy:\",metrics.accuracy_score(y_test, SLP_predictions))\n",
        "# print(\"F1 score:\",metrics.f1_score(y_test, SLP_predictions))\n",
        "# print(\"Precision:\",metrics.precision_score(y_test, SLP_predictions))\n",
        "# print(\"Recall:\",metrics.recall_score(y_test, SLP_predictions))"
      ],
      "execution_count": 0,
      "outputs": []
    },
    {
      "cell_type": "code",
      "metadata": {
        "id": "ceXFNOdhtt1f",
        "colab_type": "code",
        "colab": {}
      },
      "source": [
        "# #KNN\n",
        "# neigh_KNN = KNeighborsClassifier(n_neighbors=4)\n",
        "# neigh_KNN.fit(X_train,y_train)\n",
        "# KNN_predictions = neigh_KNN.predict(X_test)\n",
        "# print(\"Accuracy:\",metrics.accuracy_score(y_test, KNN_predictions))\n",
        "# print(\"F1 score:\",metrics.f1_score(y_test, KNN_predictions))\n",
        "# print(\"Precision:\",metrics.precision_score(y_test, KNN_predictions))\n",
        "# print(\"Recall:\",metrics.recall_score(y_test, KNN_predictions))\n"
      ],
      "execution_count": 0,
      "outputs": []
    },
    {
      "cell_type": "code",
      "metadata": {
        "id": "fLKTA9W1j5k-",
        "colab_type": "code",
        "outputId": "b6e7f360-e79c-4a0b-f85c-85bae2e301fa",
        "colab": {
          "base_uri": "https://localhost:8080/",
          "height": 134
        }
      },
      "source": [
        "#Calculate FAR and FRR for Random Forest\n",
        "\n",
        "#confusion Matrix\n",
        "#cm=metrics.confusion_matrix(y_test, randomforest_pred)\n",
        "#print(cm)\n",
        "#plt.imshow(cm)\n",
        "\n",
        "#TN, FP, FN, TP = metrics.confusion_matrix(y_test, randomforest_pred).ravel()\n",
        "TN = 3182\n",
        "FP = 124\n",
        "FN = 8 \n",
        "TP = 3074\n",
        "print(\"True Negatives: \",TN)\n",
        "print(\"False Positives: \",FP)\n",
        "print(\"False Negatives: \",FN)\n",
        "print(\"True Positives: \",TP)\n",
        "\n",
        "# # true positive rate\n",
        "# TPR = TP/(TP+FN)\n",
        "# print(\"TPR :\", TPR)\n",
        "# # true negative rate\n",
        "# TNR = TN/(TN+FP) \n",
        "# print(\"TNR :\" ,TNR)\n",
        "\n",
        "FPR = FP/(FP + TN)\n",
        "print(\"FPR / FAR :\" ,FPR)\n",
        "\n",
        "FNR = FN/(TP+FN)\n",
        "print(\"FNR / FRR:\" ,FNR)\n",
        "\n",
        "# Overall accuracy\n",
        "# ACC = (TP+TN)/(TP+FP+FN+TN)\n",
        "# print(\"ACCuracy :\", ACC)\n",
        "\n",
        "ERR = (FP+FN)/(TP+FP+FN+TN)\n",
        "print(\"ERR :\" ,ERR)"
      ],
      "execution_count": 0,
      "outputs": [
        {
          "output_type": "stream",
          "text": [
            "True Negatives:  3182\n",
            "False Positives:  124\n",
            "False Negatives:  8\n",
            "True Positives:  3074\n",
            "FPR / FAR : 0.03750756200846945\n",
            "FNR / FRR: 0.0025957170668397143\n",
            "ERR : 0.020663744520976832\n"
          ],
          "name": "stdout"
        }
      ]
    },
    {
      "cell_type": "code",
      "metadata": {
        "id": "RbjNGyM-AFEQ",
        "colab_type": "code",
        "outputId": "3a50974e-aa89-4a08-8c3f-362fb2dcce17",
        "colab": {
          "base_uri": "https://localhost:8080/",
          "height": 420
        }
      },
      "source": [
        "#Calculate FAR and FRR for MLP\n",
        "\n",
        "#confusion Matrix\n",
        "cm=metrics.confusion_matrix(y_test, MLP_predictions)\n",
        "print(cm)\n",
        "plt.imshow(cm)\n",
        "\n",
        "TN, FP, FN, TP = metrics.confusion_matrix(y_test, MLP_predictions).ravel()\n",
        "print(\"True Negatives: \",TN)\n",
        "print(\"False Positives: \",FP)\n",
        "print(\"False Negatives: \",FN)\n",
        "print(\"True Positives: \",TP)\n",
        "\n",
        "# # true positive rate\n",
        "# TPR = TP/(TP+FN)\n",
        "# print(\"TPR :\", TPR)\n",
        "# # true negative rate\n",
        "# TNR = TN/(TN+FP) \n",
        "# print(\"TNR :\" ,TNR)\n",
        "\n",
        "FPR = FP/(FP + TN)\n",
        "print(\"FPR / FAR :\" ,FPR)\n",
        "\n",
        "FNR = FN/(TP+FN)\n",
        "print(\"FNR / FRR:\" ,FNR)\n",
        "\n",
        "# Overall accuracy\n",
        "# ACC = (TP+TN)/(TP+FP+FN+TN)\n",
        "# print(\"ACCuracy :\", ACC)\n",
        "\n",
        "ERR = (FP+FN)/(TP+FP+FN+TN)\n",
        "print(\"ERR :\" ,ERR)\n"
      ],
      "execution_count": 0,
      "outputs": [
        {
          "output_type": "stream",
          "text": [
            "[[4935  166]\n",
            " [ 114 4634]]\n",
            "True Negatives:  4935\n",
            "False Positives:  166\n",
            "False Negatives:  114\n",
            "True Positives:  4634\n",
            "FPR / FAR : 0.03254263869829445\n",
            "FNR / FRR: 0.02401010951979781\n",
            "ERR : 0.028429282160625444\n"
          ],
          "name": "stdout"
        },
        {
          "output_type": "display_data",
          "data": {
            "image/png": "[encoded data removed]",
            "text/plain": [
              "<Figure size 432x288 with 1 Axes>"
            ]
          },
          "metadata": {
            "tags": []
          }
        }
      ]
    },
    {
      "cell_type": "code",
      "metadata": {
        "id": "K1IDBL7pl7Jf",
        "colab_type": "code",
        "outputId": "88226063-f30f-4f3f-d00d-f68063196824",
        "colab": {
          "base_uri": "https://localhost:8080/",
          "height": 34
        }
      },
      "source": [
        "MCC= matthews_corrcoef(y_test, randomforest_pred)\n",
        "print(MCC)"
      ],
      "execution_count": 0,
      "outputs": [
        {
          "output_type": "stream",
          "text": [
            "0.9947209838214953\n"
          ],
          "name": "stdout"
        }
      ]
    }
  ]
}